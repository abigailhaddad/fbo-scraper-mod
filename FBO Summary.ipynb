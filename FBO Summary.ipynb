{
 "cells": [
  {
   "cell_type": "markdown",
   "metadata": {},
   "source": [
    "# FBO Data Preliminary Info\n",
    "\n",
    "### This summarizes some of the data that I'm pulling from FBO, in particular what fields give us information about whether something is training-related.\n"
   ]
  },
  {
   "cell_type": "markdown",
   "metadata": {},
   "source": [
    "### Packages to read the data"
   ]
  },
  {
   "cell_type": "code",
   "execution_count": 45,
   "metadata": {},
   "outputs": [],
   "source": [
    "import os\n",
    "import pandas as pd\n",
    "import numpy\n",
    "import random\n",
    "import requests\n",
    "random.seed(21419)\n",
    "pd.set_option('mode.chained_assignment', None)"
   ]
  },
  {
   "cell_type": "markdown",
   "metadata": {},
   "source": [
    "### Functions"
   ]
  },
  {
   "cell_type": "code",
   "execution_count": 46,
   "metadata": {},
   "outputs": [],
   "source": [
    "def row_length(df):\n",
    "    return(f'There are {len(df)} rows in the data.')\n",
    "\n",
    "def pick_random_numbers(df, columns, count):\n",
    "    if len(df)>1:\n",
    "        random_numbers=random.sample(range(1, len(df)), count)\n",
    "    else:\n",
    "        random_numbers=[1]\n",
    "    for number in random_numbers:\n",
    "        for col in columns:\n",
    "            print(df[col].iloc[number-1])\n",
    "        print(\"\")\n",
    "            "
   ]
  },
  {
   "cell_type": "markdown",
   "metadata": {},
   "source": [
    "### Pulling in 30 days of FBO data"
   ]
  },
  {
   "cell_type": "code",
   "execution_count": 72,
   "metadata": {
    "scrolled": true
   },
   "outputs": [],
   "source": [
    "#you can pull some thdata from here\n",
    "link=\"https://s3.amazonaws.com/fbo-scraper/fbo-data/Mar-01-2019_Output.xlsx\"\n",
    "dls = link\n",
    "resp = requests.get(dls)\n",
    "\n",
    "output = open('OutputText.xlsx', 'wb')\n",
    "output.write(resp.content)\n",
    "output.close()\n",
    "\n",
    "#my_dir=r'\\\\usr.osd.mil\\home\\OSD\\DOD CIO\\HaddadAE\\_MyComputer\\Documents\\Git Repos\\FBO_scraper_alt\\fbo-scraper-mod'\n",
    "#my_dir=r'C:\\Users\\admin\\Anaconda3\\pkgs\\fbo-scraper'\n",
    "#os.chdir(my_dir)\n",
    "df=pd.read_excel('OutputText.xlsx')\n"
   ]
  },
  {
   "cell_type": "markdown",
   "metadata": {},
   "source": [
    "### This is what one record looks like, including some generated fields. The awards fields are frequently missing because most of what's in FBO isn't at the awards stage. Other fields are available - we can pull anything from the individual listing page - but these are the ones we're currently looking at.\n"
   ]
  },
  {
   "cell_type": "code",
   "execution_count": 73,
   "metadata": {},
   "outputs": [
    {
     "name": "stdout",
     "output_type": "stream",
     "text": [
      "Solicitation Name                                          Repair WEG Docks\n",
      "Description                                                Link To Document\n",
      "Classification Code                                                       Y\n",
      "NAICS Code                                                           237990\n",
      "Train in Desc                                                        Absent\n",
      "Train in SolName                                                     Absent\n",
      "Agency                                          Department of the Air Force\n",
      "Office                                                   Air Combat Command\n",
      "Notice Type                                                 Presolicitation\n",
      "Solicitation Number                                        FA4819-19-B-7001\n",
      "Award Number                                                            NaN\n",
      "Award Date                                                              NaN\n",
      "Award Amount                                                            NaN\n",
      "Awardee                                                                 NaN\n",
      "Set Aside                                              Total Small Business\n",
      "Posted Date                                                      02/28/2019\n",
      "Response Date                                                             -\n",
      "Link                      https://www.fbo.gov/notices/626ff469e35e9c83f2...\n",
      "Email                                                                   NaN\n",
      "Primary POC               Melissa L. Sanders, Contracting Officer, Phone...\n",
      "CodeDescription             Other Heavy and Civil Engineering Construction \n",
      "Original Posted Date                                                    NaN\n",
      "ProcurementDescription            Construction of structures and facilities\n",
      "Original Response Date                                                  NaN\n",
      "Name: 0, dtype: object\n"
     ]
    }
   ],
   "source": [
    "print(df.iloc[0])"
   ]
  },
  {
   "cell_type": "markdown",
   "metadata": {},
   "source": [
    "### How many rows are there total?"
   ]
  },
  {
   "cell_type": "code",
   "execution_count": 49,
   "metadata": {},
   "outputs": [
    {
     "data": {
      "text/plain": [
       "'There are 2764 rows in the data.'"
      ]
     },
     "execution_count": 49,
     "metadata": {},
     "output_type": "execute_result"
    }
   ],
   "source": [
    "row_length(df)"
   ]
  },
  {
   "cell_type": "markdown",
   "metadata": {},
   "source": [
    "### Here we look at whether the word \"train\" or some variant is in the solicitation name"
   ]
  },
  {
   "cell_type": "code",
   "execution_count": 50,
   "metadata": {},
   "outputs": [
    {
     "name": "stdout",
     "output_type": "stream",
     "text": [
      "There are 5 rows in the data.\n"
     ]
    }
   ],
   "source": [
    "SolicitationsWithTrain=(df.loc[df['Train in SolName']==\"Present\"])\n",
    "print(row_length(SolicitationsWithTrain))"
   ]
  },
  {
   "cell_type": "markdown",
   "metadata": {},
   "source": [
    "### Some random examples of those solicitation names include:"
   ]
  },
  {
   "cell_type": "code",
   "execution_count": 51,
   "metadata": {},
   "outputs": [
    {
     "name": "stdout",
     "output_type": "stream",
     "text": [
      "69--The Naval Air Warfare Center Training System Division (NAWCTSD), Orlando, FL has a requirement to procure spare parts to support the P-8A training system.\n",
      "https://www.fbo.gov/spg/DON/NAVAIR/N61339/N6134019R0027/listing.html\n",
      "\n",
      "Replace Pedestrain Bridge\n",
      "https://www.fbo.gov/notices/b41b019e89c9f488b2fc71a7777d3c3b\n",
      "\n",
      "Role Players The use of role players is required to support regional training and exercises and to enhance domestic contingency preparedness exercises and evaluations of CBRN Enhanced Response Force Package (CERFP), Homeland Response Force\n",
      "https://www.fbo.gov/spg/USA/NGB/DAHA05/W912LC-19-Q-0045/listing.html\n",
      "\n"
     ]
    }
   ],
   "source": [
    "pick_random_numbers(SolicitationsWithTrain, ['Solicitation Name', 'Link'], 3)"
   ]
  },
  {
   "cell_type": "markdown",
   "metadata": {},
   "source": [
    "### Examples like 'Y--Design-Build (DB) construction project for the Reserve Training Center Complex, JEB Little Creek, Virginia Beach, VA.' and 'M--INTEGRATED SOLID WASTE MANAGEMENT AND RECYCLING SERVICE at the Combined Arms Training Center, Camp Fuji, Japan' are clearly not training related."
   ]
  },
  {
   "cell_type": "markdown",
   "metadata": {},
   "source": [
    "### Here we look at whether the word \"train\" or some variant is in the description name"
   ]
  },
  {
   "cell_type": "code",
   "execution_count": 52,
   "metadata": {},
   "outputs": [
    {
     "name": "stdout",
     "output_type": "stream",
     "text": [
      "There are 43 rows in the data.\n"
     ]
    }
   ],
   "source": [
    "DescriptionsWithTrain=(df.loc[df['Train in Desc']==\"Present\"])\n",
    "print(row_length(DescriptionsWithTrain))"
   ]
  },
  {
   "cell_type": "markdown",
   "metadata": {},
   "source": [
    "### Some random examples of the solicitation names include:"
   ]
  },
  {
   "cell_type": "code",
   "execution_count": 53,
   "metadata": {},
   "outputs": [
    {
     "name": "stdout",
     "output_type": "stream",
     "text": [
      "Solaris Trusted Extensions Installation Configuration, and Administration Course\n",
      "https://www.fbo.gov/spg/USAF/AFMC/OOALC/FA822419Q6950/listing.html\n",
      "\n",
      "XRY CERTIFICATION COI\n",
      "https://www.fbo.gov/spg/ODA/USSOCOM/NAVSOC/H92240-19-Q-2013/listing.html\n",
      "\n",
      "78--Gym Equipment\n",
      "https://www.fbo.gov/notices/4ae108d89a747553f76d6f31914545bf\n",
      "\n",
      "K -- Notice of Intent to Sole Source Scientific Research Corporation\n",
      "https://www.fbo.gov/notices/53c1356649f5689b38ff6dee6654f0fe\n",
      "\n",
      "78--Bike Trainers\n",
      "https://www.fbo.gov/notices/8f59c9637a4ba80ebe2dfde8b6175ca1\n",
      "\n",
      "78--Bike Trainers\n",
      "https://www.fbo.gov/notices/b1437cdc5d4062f9cf045b966196f3ac\n",
      "\n",
      "R--Logistics Support Services for Base Camp Operations\n",
      "https://www.fbo.gov/notices/44c89265b5b357aa9f1979d374345d28\n",
      "\n",
      "W--PROVIDE LEASING AND MAINETNANCE OF A DISHWASHER MACHINE TO INCLUDE BASE YEAR AND FOUR OPTION YEARS.\n",
      "https://www.fbo.gov/notices/916fe41a217e909e0fd00824aea9730b\n",
      "\n",
      "R--FERRIER TRAINING AND SUPPORT SERVICES\n",
      "https://www.fbo.gov/notices/c9de3a0301861b9d9dd4618d3b022dc7\n",
      "\n",
      "54--N6831619RC014GR 19QG049 NSSF FUEL STORAGE TANKS\n",
      "https://www.fbo.gov/spg/DON/NAVSUP/N00189/N0018919QG049/listing.html\n",
      "\n"
     ]
    }
   ],
   "source": [
    "pick_random_numbers(DescriptionsWithTrain, ['Solicitation Name','Link'], 10)"
   ]
  },
  {
   "cell_type": "markdown",
   "metadata": {},
   "source": [
    "### Another field of interest is the procurement code. Here are the most common procurement codes:"
   ]
  },
  {
   "cell_type": "code",
   "execution_count": 54,
   "metadata": {},
   "outputs": [
    {
     "name": "stdout",
     "output_type": "stream",
     "text": [
      " maintenance, repair & rebuilding of equipment                    302\n",
      " Aircraft components & accessories                                159\n",
      " Utilities and housekeeping services                              155\n",
      " Construction of structures and facilities                        121\n",
      " Professional, administrative, and management support services    118\n",
      " maintenance, repair, and alteration of real property             106\n",
      " Miscellaneous                                                    100\n",
      " Electrical and electronic equipment components                   100\n",
      " General purpose information technology equipment                  83\n",
      " Communication, detection, & coherent radiation equipment          74\n",
      "Name: ProcurementDescription, dtype: int64\n"
     ]
    }
   ],
   "source": [
    "print(df['ProcurementDescription'].value_counts().head(10))"
   ]
  },
  {
   "cell_type": "markdown",
   "metadata": {},
   "source": [
    "### Let's look at the ones with train or educ"
   ]
  },
  {
   "cell_type": "code",
   "execution_count": 55,
   "metadata": {},
   "outputs": [
    {
     "name": "stdout",
     "output_type": "stream",
     "text": [
      "[' Training aids & devices', ' Education & Training services']\n"
     ]
    }
   ],
   "source": [
    "ProcurementDescriptions=df['ProcurementDescription'].unique()\n",
    "ProcurementDescriptionsWithTrainEduc=[i for i in ProcurementDescriptions if (\"train\" in str(i).lower() or \"educ\" in str(i).lower())]\n",
    "print(ProcurementDescriptionsWithTrainEduc)"
   ]
  },
  {
   "cell_type": "markdown",
   "metadata": {},
   "source": [
    "### We're interested in ' Education & Training services'"
   ]
  },
  {
   "cell_type": "code",
   "execution_count": 56,
   "metadata": {},
   "outputs": [
    {
     "name": "stdout",
     "output_type": "stream",
     "text": [
      "There are 52 rows in the data.\n"
     ]
    }
   ],
   "source": [
    "ProcurementSubset=df.loc[df['ProcurementDescription']==' Education & Training services']\n",
    "print(row_length(ProcurementSubset))"
   ]
  },
  {
   "cell_type": "markdown",
   "metadata": {},
   "source": [
    "### Some random examples of their solicitation names include:\n"
   ]
  },
  {
   "cell_type": "code",
   "execution_count": 57,
   "metadata": {},
   "outputs": [
    {
     "name": "stdout",
     "output_type": "stream",
     "text": [
      "XRY CERTIFICATION COI\n",
      "https://www.fbo.gov/spg/ODA/USSOCOM/NAVSOC/H92240-19-Q-2013/listing.html\n",
      "\n",
      "AGCME Annual Accreditation Maintenance Fees\n",
      "https://www.fbo.gov/spg/USAF/AETC/KAFBCS/FA3010-19-Q-0010/listing.html\n",
      "\n",
      "Security Onion On-Site Training Services\n",
      "https://www.fbo.gov/spg/USA/NGB/DAHA25/W91243-19-Q-L016/listing.html\n",
      "\n",
      "DoDEA Paraeducator Professional Learning\n",
      "https://www.fbo.gov/spg/ODA/DoDEA/ArlingtonVA/HE1254-19-R-0007/listing.html\n",
      "\n",
      "Georgia Tech Sole Source for Synthetic Aperture Radar Signal Processing Training\n",
      "https://www.fbo.gov/notices/a9bda4b9713c65c2806e8db7c37d0120\n",
      "\n",
      "Pulse-Doppler Radar Short Course\n",
      "https://www.fbo.gov/spg/USAF/AFMC/AFFTC/F1S0AX9036B102/listing.html\n",
      "\n",
      "GEOINT Tradecraft Learning Contract (GTLC)\n",
      "https://www.fbo.gov/spg/ODA/NIMA/PCM-WD-51/HM047618R0073/listing.html\n",
      "\n",
      "U--Parachute Team Instuctor\n",
      "https://www.fbo.gov/notices/17c97d49bef7a4fd6f4e192b2c7f2043\n",
      "\n",
      "Language Instruction Services draft solicitation\n",
      "https://www.fbo.gov/notices/5f1912ab60b928f2ddbf3a92fab73e6d\n",
      "\n",
      "U--ACTS IDIQ RFP N61340-19-R-1203 Section L, Part B, 3.1(a)(iv) - NAVAIR Clause 5252.204-9502\n",
      "https://www.fbo.gov/spg/DON/NAVAIR/N61339/N6134019R1203/listing.html\n",
      "\n"
     ]
    }
   ],
   "source": [
    "pick_random_numbers(ProcurementSubset, ['Solicitation Name', 'Link'], 10)"
   ]
  },
  {
   "cell_type": "markdown",
   "metadata": {},
   "source": [
    "### We also have a NAICS code field"
   ]
  },
  {
   "cell_type": "code",
   "execution_count": 58,
   "metadata": {},
   "outputs": [
    {
     "name": "stdout",
     "output_type": "stream",
     "text": [
      "['Flight Training ', 'Professional and Management Development Training ', 'Computer Training ', 'Educational Support Services', 'Motor Vehicle Transmission and Power Train Parts Manufacturing', 'Apprenticeship Training ']\n"
     ]
    }
   ],
   "source": [
    "CodeDescriptions=df['CodeDescription'].unique()\n",
    "CodeDescriptionsWithTrainEduc=[i for i in CodeDescriptions if (\"train\" in str(i).lower() or \"educ\" in str(i).lower())]\n",
    "print(CodeDescriptionsWithTrainEduc)"
   ]
  },
  {
   "cell_type": "markdown",
   "metadata": {},
   "source": [
    "### We're interested in everything but 'Motor Vehicle Transmission and Power Train Parts Manufacturing'\n"
   ]
  },
  {
   "cell_type": "code",
   "execution_count": 59,
   "metadata": {},
   "outputs": [
    {
     "name": "stdout",
     "output_type": "stream",
     "text": [
      "There are 37 rows in the data.\n"
     ]
    }
   ],
   "source": [
    "try:\n",
    "    CodeDescriptionsWithTrainEduc.remove('Motor Vehicle Transmission and Power Train Parts Manufacturing')\n",
    "except:\n",
    "    pass\n",
    "\n",
    "NAICSSubset=df.loc[df['CodeDescription'].isin(CodeDescriptionsWithTrainEduc)]\n",
    "print(row_length(NAICSSubset))"
   ]
  },
  {
   "cell_type": "markdown",
   "metadata": {},
   "source": [
    "### Some random examples of their solicitation names include:"
   ]
  },
  {
   "cell_type": "code",
   "execution_count": 60,
   "metadata": {},
   "outputs": [
    {
     "name": "stdout",
     "output_type": "stream",
     "text": [
      "U--Correction of posted ACTS IDIQ RFP proposal due date.\n",
      "Engineering Services\n",
      "https://www.fbo.gov/spg/DON/NAVAIR/N61339/N6134019R1203/listing.html\n",
      "\n",
      "Executive Education Courses\n",
      "Colleges, Universities, and Professional Schools \n",
      "https://www.fbo.gov/spg/ODA/USSOCOM/NAVSOC/H92240-19-Q-0006/listing.html\n",
      "\n",
      "Active Directory Training Bundle\n",
      "Computer Training \n",
      "https://www.fbo.gov/notices/354c22d046718ca3e6f4e04da75c03ab\n",
      "\n",
      "Hearing Impaired Teaching Services\n",
      "Elementary and Secondary Schools \n",
      "https://www.fbo.gov/spg/ODA/DoDEA/ArlingtonVA/HE1254-19-Q-0012/listing.html\n",
      "\n",
      "Technical Rope Rescue Technician Level Training\n",
      "All Other Miscellaneous Schools and Instruction \n",
      "https://www.fbo.gov/spg/USA/NGB/DAHA50/W912J6-19-Q-0021/listing.html\n",
      "\n",
      "Survival Evasion Resistance Escape (SERE) Training\n",
      "All Other Miscellaneous Schools and Instruction \n",
      "https://www.fbo.gov/spg/ODA/USSOCOM/FortBraggNC/H92239-19-R-0004/listing.html\n",
      "\n",
      "Accreditations for Residency Professional Education and Training Programs\n",
      "Educational Support Services\n",
      "https://www.fbo.gov/spg/USA/MEDCOM/DADA09/W81K00-19-Q-0031/listing.html\n",
      "\n",
      "Mission Command Arts and Sciences Program (MCASP) initiative\n",
      "Professional and Management Development Training \n",
      "https://www.fbo.gov/notices/c86341028f6e6b03a5adeb7d0f1bc5b4\n",
      "\n",
      "GEOINT Tradecraft Learning Contract (GTLC)\n",
      "Professional and Management Development Training \n",
      "https://www.fbo.gov/spg/ODA/NIMA/PCM-WD-51/HM047618R0073/listing.html\n",
      "\n",
      "Catholic Youth Program Coordinator\n",
      "Educational Support Services\n",
      "https://www.fbo.gov/spg/USAF/AFMC/88 CONS/FA8601-19-QA-024/listing.html\n",
      "\n"
     ]
    }
   ],
   "source": [
    "pick_random_numbers(ProcurementSubset, ['Solicitation Name', 'CodeDescription', 'Link'], 10)"
   ]
  },
  {
   "cell_type": "markdown",
   "metadata": {},
   "source": [
    "### How much do these indicators overlap?"
   ]
  },
  {
   "cell_type": "code",
   "execution_count": 61,
   "metadata": {},
   "outputs": [
    {
     "name": "stdout",
     "output_type": "stream",
     "text": [
      "Train in Desc     Absent  Present\n",
      "Train in SolName                 \n",
      "Absent              2719       40\n",
      "Present                2        3\n"
     ]
    }
   ],
   "source": [
    "print(pd.crosstab(df['Train in SolName'], df['Train in Desc']))"
   ]
  },
  {
   "cell_type": "markdown",
   "metadata": {},
   "source": [
    "### Let's assign some points for these different characteristics and look at some examples by point score"
   ]
  },
  {
   "cell_type": "code",
   "execution_count": 62,
   "metadata": {},
   "outputs": [],
   "source": [
    "#DictionaryOfPointValues={DescriptionsWithTrain: 1,\n",
    "#                        SolicitationsWithTrain: 1,\n",
    " #                       NAICSSubset: 2,\n",
    "  #                      ProcurementSubset: 2}\n",
    "\n",
    "df['Total Points']=0\n",
    "for i in range(0, len(df)):\n",
    "    if df.index[i] in ProcurementSubset.index:\n",
    "        df['Total Points'].iloc[i]=df['Total Points'].iloc[i]+1\n",
    "    if df.index[i] in DescriptionsWithTrain.index:\n",
    "        df['Total Points'].iloc[i]=df['Total Points'].iloc[i]+1\n",
    "    if df.index[i] in SolicitationsWithTrain.index:\n",
    "        df['Total Points'].iloc[i]=df['Total Points'].iloc[i]+1\n",
    "    if df.index[i] in NAICSSubset.index:\n",
    "        df['Total Points'].iloc[i]=df['Total Points'].iloc[i]+1\n",
    "    "
   ]
  },
  {
   "cell_type": "code",
   "execution_count": 63,
   "metadata": {},
   "outputs": [
    {
     "data": {
      "text/plain": [
       "0    2663\n",
       "1      68\n",
       "2      30\n",
       "3       3\n",
       "Name: Total Points, dtype: int64"
      ]
     },
     "execution_count": 63,
     "metadata": {},
     "output_type": "execute_result"
    }
   ],
   "source": [
    "df['Total Points'].value_counts()"
   ]
  },
  {
   "cell_type": "markdown",
   "metadata": {},
   "source": [
    "### Looking at examples by point score"
   ]
  },
  {
   "cell_type": "code",
   "execution_count": 65,
   "metadata": {},
   "outputs": [
    {
     "name": "stdout",
     "output_type": "stream",
     "text": [
      "0 POINTS\n",
      "\n",
      "RE-ROOF AGE BUILDING\n",
      "Commercial and Institutional Building Construction \n",
      "https://www.fbo.gov/spg/USA/NGB/DAHA01-1/W912JA-19-B-6001/listing.html\n",
      "\n",
      "Construction of South Access Control Point for Fort Bliss Replacement Hospital\n",
      "Commercial and Institutional Building Construction \n",
      "https://www.fbo.gov/spg/USA/COE/DACA63/W9126G-18-R-0370/listing.html\n",
      "\n",
      "\n",
      "\n",
      "1 POINTS\n",
      "\n",
      "Z--IDIQ JOC for HVAC work under NAICS 238220 at Naval Base Ventura County (NBVC) Area of Responsibility, California.\n",
      "Plumbing, Heating, and Air-Conditioning Contractors \n",
      "https://www.fbo.gov/notices/de13a070ea606bc665183c551b7793c9\n",
      "\n",
      "R--Technology Refresh Engineering Services\n",
      "Engineering Services\n",
      "https://www.fbo.gov/notices/14ed631864318cc18ec44b783221da2d\n",
      "\n",
      "\n",
      "\n",
      "2 POINTS\n",
      "\n",
      "Basic Accelerated Resolution Therapy (ART) Training for Tripler Army Medical Center, HI\n",
      "Professional and Management Development Training \n",
      "https://www.fbo.gov/spg/USA/MEDCOM/DADA16/W81K0219Q0090/listing.html\n",
      "\n",
      "Basic Accelerated Resolution Therapy (ART) Training for Tripler Army Medical Center, HI\n",
      "Professional and Management Development Training \n",
      "https://www.fbo.gov/spg/USA/MEDCOM/DADA16/W81K0219Q0090/listing.html\n",
      "\n",
      "\n",
      "\n",
      "3 POINTS\n",
      "\n",
      "Apprenticeship, Helper and After-Hours Training Program\n",
      "Apprenticeship Training \n",
      "https://www.fbo.gov/spg/DON/NAVSEA/N62799/N4523A19RTRAIN/listing.html\n",
      "\n",
      "Solaris Trusted Extensions Installation Configuration, and Administration Course\n",
      "Computer Training \n",
      "https://www.fbo.gov/spg/USAF/AFMC/OOALC/FA822419Q6950/listing.html\n",
      "\n",
      "\n",
      "\n"
     ]
    }
   ],
   "source": [
    "for PointNumber in range(0,max(df['Total Points'].unique()+1)):\n",
    "    print(f'{PointNumber} POINTS')\n",
    "    print(\"\")\n",
    "    df_subset=df.loc[df['Total Points']==PointNumber]\n",
    "    LengthOfSubset=min(2, len(df_subset))\n",
    "    pick_random_numbers(df_subset, ['Solicitation Name', 'CodeDescription', 'Link'],LengthOfSubset )\n",
    "    print(\"\")\n",
    "    print(\"\")\n"
   ]
  }
 ],
 "metadata": {
  "kernelspec": {
   "display_name": "Python 3",
   "language": "python",
   "name": "python3"
  },
  "language_info": {
   "codemirror_mode": {
    "name": "ipython",
    "version": 3
   },
   "file_extension": ".py",
   "mimetype": "text/x-python",
   "name": "python",
   "nbconvert_exporter": "python",
   "pygments_lexer": "ipython3",
   "version": "3.7.1"
  }
 },
 "nbformat": 4,
 "nbformat_minor": 2
}
